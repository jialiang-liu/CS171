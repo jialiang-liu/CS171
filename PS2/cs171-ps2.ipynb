{
 "cells": [
  {
   "cell_type": "markdown",
   "metadata": {},
   "source": [
    "# CS 171 Problem Set 2 (all questions)"
   ]
  },
  {
   "cell_type": "markdown",
   "metadata": {},
   "source": [
    "The loss function for logistic regression, $f(x) = \\sigma(x^\\top w)$, is\n",
    "\\begin{align*}\n",
    "l(y,\\hat{y}) &= -\\ln \\sigma(y\\hat{y}) \\\\\n",
    "\\text{and thus} \\\\\n",
    "L &= \\frac{1}{m}\\sum_{i=1}^m -\\ln \\sigma(y_i f(x_i))\n",
    "\\end{align*}\n",
    "In class, we derived that the resulting gradient was, therefore,\n",
    "\\begin{align*}\n",
    "\\nabla_w L &= \\frac{-1}{m}\\sum_{i=1}^m (1-p_i)y_ix_i \\\\\n",
    "\\text{where} \\\\\n",
    "p_i &= \\sigma(y_i w^\\top x_i)\n",
    "\\end{align*}\n",
    "And so the update rule for $w$ is\n",
    "\\begin{align*}\n",
    "w &\\leftarrow w + \\eta \\frac{1}{m}\\sum_{i=1}^m (1-p_i)y_ix_i \n",
    "\\end{align*}"
   ]
  },
  {
   "cell_type": "markdown",
   "metadata": {},
   "source": [
    "<div class=\"alert alert-info\"><font size=5>Problem 1 (5 pts)</font>\n",
    "\n",
    "Modify the total loss function, $L$, to include a regularization term with strength $\\lambda/m$ that penalizes the sum of the squares of the weights.\n",
    "\n",
    "***Write the new loss function.  Derive the gradient descent rule for this new loss function.***"
   ]
  },
  {
   "cell_type": "markdown",
   "metadata": {},
   "source": [
    "### Your Answer Here \n",
    "The loss function with regularization is\n",
    "\\begin{align}\n",
    "L=\\frac{1}{m}\\sum_{i=1}^m-\\ln\\sigma(y_if(x_i))+\\frac{\\lambda}{m}\\sum_{j=1}^nw_j^2\n",
    "\\end{align}\n",
    "The gradient is\n",
    "\\begin{align}\n",
    "\\nabla_wL=\\frac{-1}{m}\\sum_{i=1}^m(1-p_i)y_ix_i+\\frac{2\\lambda}{m}w\n",
    "\\end{align}\n",
    "where\n",
    "\\begin{align}\n",
    "p_i=\\sigma(y_iw^\\top x_i)\n",
    "\\end{align}\n",
    "Therefore, the gradient descent rule for this new loss function is\n",
    "\\begin{align}\n",
    "w\\leftarrow w-\\eta(-\\frac{1}{m}\\sum_{i=1}^m(1-\\sigma(y_iw^\\top x_i))y_ix_i+\\frac{2\\lambda}{m}w).\n",
    "\\end{align}"
   ]
  },
  {
   "cell_type": "markdown",
   "metadata": {},
   "source": [
    "<div class=\"alert, alert-info\"><font size=5>Problem 2 (10 pts)</font>\n",
    "\n",
    "***Write a function `learnlogreg` that uses your gradent descent rule from Problem 1.***\n",
    "\n",
    "- As a stopping condition, stop when the _square_ of the _length_ of the gradient (as a vector) falls below $10^{-10}$.\n",
    "- Assume that the first feature of `X` (the first column) is all 1s and that no regularization should be applied to it.\n",
    "- Do (batch) gradient descent, not stochastic gradient descent\n",
    "- Selecting the step size can be tricky.  Professional versions use adaptive methods to vary the step size from iteration to iteration.  However, for this assignment, use a constant step size for all iterations.  From experimentation, setting the stepsize as $\\eta = \\sqrt{\\frac{2.5}{\\lambda}}$ works.  This is weird, but it will allow for quick convergence for the $\\lambda$ values we will use."
   ]
  },
  {
   "cell_type": "code",
   "execution_count": 1,
   "metadata": {},
   "outputs": [],
   "source": [
    "import numpy as np\n",
    "import matplotlib.pyplot as plt\n",
    "\n",
    "# load the data\n",
    "def loadsparsedata(fn):\n",
    "    \n",
    "    fp = open(fn,\"r\")\n",
    "    lines = fp.readlines()\n",
    "    maxf = 0;\n",
    "    for line in lines:\n",
    "        for i in line.split()[1::2]:\n",
    "            maxf = max(maxf,int(i))\n",
    "    \n",
    "    X = np.zeros((len(lines),maxf))\n",
    "    Y = np.zeros((len(lines)))\n",
    "    \n",
    "    for i, line in enumerate(lines):\n",
    "        values = line.split()\n",
    "        Y[i] = int(values[0])\n",
    "        for j,v in zip(values[1::2],values[2::2]):\n",
    "            X[i,int(j)-1] = int(v)\n",
    "    \n",
    "    return X,Y"
   ]
  },
  {
   "cell_type": "code",
   "execution_count": 2,
   "metadata": {},
   "outputs": [],
   "source": [
    "from IPython.display import display, clear_output\n",
    "\n",
    "def learnlogreg(X,Y01,lam):\n",
    "    # X is an np.array of shape (m,n) with the first column all 1s\n",
    "    # Y01 is an np.array of shape (m,1) with element either 0 or 1\n",
    "    # lam is the regularization strength (a scalar)\n",
    "    \n",
    "    Y = Y01.copy() # rules derived in class assume that \n",
    "    Y[Y==0] = -1 # the classes are represented by +1 and -1, not +1, and 0\n",
    "    (m,n) = X.shape\n",
    "\n",
    "    w = np.zeros((n))\n",
    "    \n",
    "    eta = np.sqrt(2.5/lam) # the suggested stepsize (see above)\n",
    "    \n",
    "    ### YOUR CODE HERE\n",
    "    nX = np.mat(X).T\n",
    "    mXY = -np.multiply(nX,Y)\n",
    "    c1 = 2*lam/m\n",
    "    while 1:\n",
    "        #calculate pi = σ(yiwTxi)\n",
    "        pi = 1.0/(1.0+np.exp(w@mXY))\n",
    "        #calculate gi = -(1-pi)yixi\n",
    "        gi = np.multiply((1.0-pi),mXY).T\n",
    "        g = np.squeeze(((gi.sum(axis = 0))*(1/m)).tolist(),axis = 0)+w*c1\n",
    "        #add regularization, and not apply to first column\n",
    "        g[0] -= w[0]*c1\n",
    "        w -= g*eta\n",
    "        if g@g<1e-10:\n",
    "            break\n",
    "    \n",
    "    return w"
   ]
  },
  {
   "cell_type": "code",
   "execution_count": 3,
   "metadata": {},
   "outputs": [],
   "source": [
    "(trainX,trainY) = loadsparsedata(\"spamtrain.txt\")\n",
    "trainX = np.column_stack((np.ones(trainX.shape[0]),trainX)) # add column of 1s as zeroth feature\n",
    "\n",
    "w = learnlogreg(trainX,trainY,1e-3) # just an example to check with lambda=0.001"
   ]
  },
  {
   "cell_type": "code",
   "execution_count": 4,
   "metadata": {},
   "outputs": [
    {
     "data": {
      "text/plain": [
       "0.0013333333333333333"
      ]
     },
     "execution_count": 4,
     "metadata": {},
     "output_type": "execute_result"
    }
   ],
   "source": [
    "def linearerror(X,Y,w):\n",
    "    # returns error *rate* for linear classifier with coefficients w\n",
    "    m = Y.shape[0]\n",
    "    predy = X.dot(w)\n",
    "    err = (Y[predy>=0]<0.5).sum() + (Y[predy<0]>=0.5).sum()\n",
    "    return err/m\n",
    "\n",
    "linearerror(trainX,trainY,w) # should be 0.001333... (if lambda=0.001, above)"
   ]
  },
  {
   "cell_type": "markdown",
   "metadata": {},
   "source": [
    "<div class=\"alert, alert-info\"><font size=5>Problem 3 (10 pts)</font>\n",
    "\n",
    "***Plot a comparison of the cross-validation estimate of the error rate with the testing error rate, as a function of $\\lambda$***\n",
    "\n",
    "Use _5-fold cross validation_ for each of the $\\lambda$ values (as shown below).  Plot the cross-validation error estimate as a function of $\\lambda$.\n",
    "\n",
    "Then use the entire training set to train a model (for each $\\lambda$) and plot (on the same graph) the _testing_ error rate as a function of $\\lambda$\n",
    "\n",
    "- For the plots, use `plt.semilogx` (instead of `plt.plot`)\n",
    "- Label your axes and plot (use `plt.xlabel`, `plt.ylabel` and `plt.legend`)\n",
    "- It may take a while (10 minutes) to train all of the models\n",
    "- Use the $\\lambda$ values defined below as `lambdas`\n",
    "\n",
    "To keep grading simple, do ***not*** scramble the data.  Instead, divide into consequtive fifths, without reordering (see the `split` function in `numpy`).\n",
    "\n",
    "Note, this will probably take about 5 minutes to complete.  "
   ]
  },
  {
   "cell_type": "code",
   "execution_count": 5,
   "metadata": {},
   "outputs": [
    {
     "data": {
      "image/png": "[encoded data removed]",
      "text/plain": [
       "<Figure size 432x288 with 1 Axes>"
      ]
     },
     "metadata": {
      "needs_background": "light"
     },
     "output_type": "display_data"
    }
   ],
   "source": [
    "lambdas = np.logspace(-3,2,10)\n",
    "\n",
    "### Your Code Here\n",
    "#import data\n",
    "(trainX,trainY) = loadsparsedata(\"spamtrain.txt\")\n",
    "trainX = np.column_stack((np.ones(trainX.shape[0]),trainX))\n",
    "ntrainX = np.array_split(trainX,5,0)\n",
    "ntrainY = np.array_split(trainY,5,0)\n",
    "(testX,testY) = loadsparsedata(\"spamtest.txt\")\n",
    "testX = np.column_stack((np.ones(testX.shape[0]),testX))\n",
    "\n",
    "#calculate the error rate when nth fold is the validation set\n",
    "def nfold(X,Y,lambdas,n):\n",
    "    testX = X[n-1]\n",
    "    testY = Y[n-1]\n",
    "    X = np.delete(X,n-1,axis = 0)\n",
    "    X = np.concatenate((X[0],X[1],X[2],X[3]),axis = 0)\n",
    "    Y = np.delete(Y,n-1,axis = 0)\n",
    "    Y = np.concatenate((Y[0],Y[1],Y[2],Y[3]),axis = 0)\n",
    "    error = np.zeros((10))\n",
    "    for i in range(10):\n",
    "        error[i] = linearerror(testX,testY,learnlogreg(X,Y,lambdas[i]))\n",
    "    return error\n",
    "\n",
    "#calculate error rate for cross validation and regular training\n",
    "crossrate = np.zeros((5,10))\n",
    "for n in range(5):\n",
    "    crossrate[n] = nfold(ntrainX,ntrainY,lambdas,n+1)\n",
    "crossrate = np.mat(crossrate).T\n",
    "avgcross = np.mean(crossrate, axis=1)\n",
    "allrate = np.zeros((10))\n",
    "for n in range(10):\n",
    "    allrate[n] = linearerror(testX,testY,learnlogreg(trainX,trainY,lambdas[n]))\n",
    "    \n",
    "#plot data\n",
    "plt.semilogx(lambdas,allrate,label = 'Testing Error Rate')\n",
    "plt.semilogx(lambdas,avgcross,label = 'Cross Validation Error Rate')\n",
    "plt.xlabel('λ')\n",
    "plt.ylabel('Error rates')\n",
    "plt.legend()\n",
    "plt.show()"
   ]
  }
 ],
 "metadata": {
  "kernelspec": {
   "display_name": "CS 171 Python",
   "language": "python",
   "name": "cs171"
  },
  "language_info": {
   "codemirror_mode": {
    "name": "ipython",
    "version": 3
   },
   "file_extension": ".py",
   "mimetype": "text/x-python",
   "name": "python",
   "nbconvert_exporter": "python",
   "pygments_lexer": "ipython3",
   "version": "3.6.6"
  }
 },
 "nbformat": 4,
 "nbformat_minor": 2
}
