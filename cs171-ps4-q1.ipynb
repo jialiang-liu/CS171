{
 "cells": [
  {
   "cell_type": "markdown",
   "metadata": {},
   "source": [
    "# Question 1 (Association Rules)"
   ]
  },
  {
   "cell_type": "markdown",
   "metadata": {},
   "source": [
    "<div class=\"alert alert-info\"><font size=5>Question 1, part a: Number of Rules [5 points]</font>\n",
    "\n",
    "If there are $m$ items (or features), there are $3^m-2^{m+1}+1$ different possible association rules.  Prove this.\n",
    "\n",
    "You need a _clear_ explanation.  Note, associate rules must have a non-empty set on the left-hand and right-hand sides\n",
    "</div>"
   ]
  },
  {
   "cell_type": "markdown",
   "metadata": {},
   "source": [
    "## Your answer to part a here.\n",
    "To be better understand why the number of possible rules is as given above, we can **add another set as \"spare set\"**, for those items in neither left-hand nor right-hand set.\n",
    "\n",
    "For each item, it has to be in one of the sets (if it's not in the rule, it has to be in the spare set.), then there are 3 choices for each item. $m$ items will have $3^m$ different ways to put. Because left-hand and right-hand sets are non-empty, we need to throw those situations. When one of the sets is empty, each item will have 2 different ways to put, then there are $2^m$ ways. The number of possible ways will be $3^m-2*2^m$, but we throw the situation twice for when left and right hand sets are both empty, so we need to add $1$. Therefore, the number of possible ways is $3^m-2^{m+1}+1$."
   ]
  },
  {
   "cell_type": "markdown",
   "metadata": {},
   "source": [
    "<div class=\"alert alert-info\"><font size=5>Question 1, part b: Association Rule Learning [15 points]</font>\n",
    "\n",
    "In this question, you will write code to do association rule learning, as described in class.\n",
    "\n",
    "The items will be represented by numbers (for ease and speed) with a separate\n",
    "list of the names for each item.  `loaddata` (below) loads in a dataset and returns these three things: a list of the names of each item, a list of the examples, and the total number of items.  Each example is a set of numbers representing.  For example, for the toy problem in lecture, loaddata returns\n",
    "\n",
    "`['Jurassic Park', 'Star Wars', 'Forrest Gump', 'Home Alone', 'Toy Story']`\n",
    "\n",
    "`[[1, 2, 4], [1, 4], [1, 3, 4], [0, 1], [0, 3], [1, 3, 4], [0, 2, 3], [3], [1, 3, 4], [1]]`\n",
    "\n",
    "`5`\n",
    "\n",
    "You should use `set`s and `frozenset`s (core python data structures) in your code.  You can read more about them at https://docs.python.org/3/library/stdtypes.html#set\n",
    "\n",
    "Write the functions `learnrules` and `writerules`, plus any additional helper functions you need.  Use the apriori algorithm to generate \"large item lists\" and the algorithm from class to find rules that meet the minimum support and confidence given.\n",
    "</div>"
   ]
  },
  {
   "cell_type": "code",
   "execution_count": 1,
   "metadata": {},
   "outputs": [],
   "source": [
    "from itertools import combinations #do not import anything else \n",
    "# (you may or may not use combinations -- up to you)\n",
    "\n",
    "# prints out a set, nicely\n",
    "# names is an optional list of the names for each of the (integer) items\n",
    "def settostr(s,names=None):\n",
    "    if names is None:\n",
    "        elems = [str(e) for e in s]\n",
    "    else:\n",
    "        elems = [names[e] for e in s]\n",
    "    return \"{\" + (\", \".join(elems)) + \"}\""
   ]
  },
  {
   "cell_type": "code",
   "execution_count": 2,
   "metadata": {},
   "outputs": [],
   "source": [
    "# loads in data from filename, assuming the file format used for this assignment\n",
    "def loaddata(filename):\n",
    "    with open(filename) as f:\n",
    "        nitems = int(f.readline())\n",
    "        names = [f.readline().strip() for i in range(nitems)]\n",
    "        nrows = int(f.readline())\n",
    "        data = [[int(s) for s in f.readline().split()] for i in range(nrows)]\n",
    "        f.close()\n",
    "        return (names,data,nitems)        "
   ]
  },
  {
   "cell_type": "code",
   "execution_count": 3,
   "metadata": {},
   "outputs": [],
   "source": [
    "def learnrules(numitems,data,minsupport,minconfidence):\n",
    "    ### ADD YOUR CODE HERE (of course, feel free to add other functions!)\n",
    "    ### Should return a list of rules.  \n",
    "    ### Each rule should be a pair of two sets (lhs and rhs)\n",
    "    \n",
    "    # Generate candidate large itemsets\n",
    "    def apriori_gen(Li_1, ii):\n",
    "        # Generate C1\n",
    "        if ii == 1:\n",
    "            C1 = set()\n",
    "            for d in data:\n",
    "                for item in d:\n",
    "                    item = frozenset([item])\n",
    "                    C1.add(item)\n",
    "            return C1\n",
    "        # Generate Ci\n",
    "        Ci = set()\n",
    "        listL = list(Li_1)\n",
    "        lenL = len(Li_1)\n",
    "        for i in range(lenL):\n",
    "            for j in range (1,lenL):\n",
    "                I = list(listL[i])\n",
    "                J = list(listL[j])\n",
    "                I.sort()\n",
    "                J.sort()\n",
    "                if I[0:ii-2] == J[0:ii-2]:\n",
    "                    item = listL[i] | listL[j]\n",
    "                    # Throw away those sets that include non-frequent subsets\n",
    "                    check = True\n",
    "                    for k in item:\n",
    "                        temp = item - frozenset([k])\n",
    "                        if temp not in Li_1:\n",
    "                            check = False\n",
    "                            break\n",
    "                    if check: Ci.add(item)\n",
    "        return Ci\n",
    "    \n",
    "    # Generate Li from Ci\n",
    "    def generate_Li(data,Ci,minsupport,s):\n",
    "        Li = set()\n",
    "        count = {}\n",
    "        for d in data:\n",
    "            for item in Ci:\n",
    "                if item.issubset(d):\n",
    "                    if item not in count:\n",
    "                        count[item] = 1\n",
    "                    else: count[item] += 1\n",
    "        dnum = float(len(data))\n",
    "        # Throw away those sets that have lower supports\n",
    "        for item in count:\n",
    "            if (count[item]/dnum) >= minsupport:\n",
    "                Li.add(item)\n",
    "                s[item] = count[item]/dnum\n",
    "        return Li\n",
    "    \n",
    "    # Generate all large itemsets\n",
    "    def apriori(numitems,data,minsupport):\n",
    "        s = {}\n",
    "        L1 = []\n",
    "        L1 = generate_Li(data,apriori_gen(L1,1),minsupport,s)\n",
    "        L = []\n",
    "        L.append(L1)\n",
    "        Li_1 = L1.copy()\n",
    "        i = 1\n",
    "        while len(Li_1) > 0:\n",
    "            i += 1\n",
    "            Ci = apriori_gen(Li_1,i)\n",
    "            Li = generate_Li(data,Ci,minsupport,s)\n",
    "            Li_1 = Li.copy()\n",
    "            L.append(Li_1)\n",
    "        return L,s\n",
    "    \n",
    "    # Learn the rules\n",
    "    L,s = apriori(numitems,data,minsupport)\n",
    "    rules = []\n",
    "    subsetlist = []\n",
    "    for i in range(len(L)):\n",
    "        for frequent in L[i]:\n",
    "            for subset in subsetlist:\n",
    "                if subset.issubset(frequent) and subset != frequent:\n",
    "                    temp = frequent-subset\n",
    "                    confidence = s[frequent]/s[temp]\n",
    "                    rule = (confidence,s[frequent],temp,subset)\n",
    "                    if (confidence >= minconfidence) and (rule not in rules):\n",
    "                        rules.append(rule)\n",
    "            subsetlist.append(frequent)\n",
    "    return rules"
   ]
  },
  {
   "cell_type": "code",
   "execution_count": 4,
   "metadata": {},
   "outputs": [],
   "source": [
    "def writerules(rules,data,itemnames):\n",
    "    ### ADD YOUR CODE HERE\n",
    "    ## should print out each rule, *sorted by accuracy*, one per line\n",
    "    ## each line should list the support, then the accuracy, then the rule\n",
    "    ## to line up the columns nicely, use\n",
    "    ##       \"{:7.4f}\".format(x)\n",
    "    ## to print the floating point number in the variable x\n",
    "    ## use settostr (above) to write out the itemsets\n",
    "    rules.sort(reverse = True)\n",
    "    for rule in rules:\n",
    "        left = []\n",
    "        right = []\n",
    "        for item in rule[2]:\n",
    "            left.append(itemnames[item])\n",
    "        for item in rule[3]:\n",
    "            right.append(itemnames[item])\n",
    "        print(\"{:7.4f}\".format(rule[1]),\" \",\"{:7.4f}\".format(rule[0]),\"  {\",end = '')\n",
    "        print(', '.join(left),end = '')\n",
    "        print(\"} => {\",end = '')\n",
    "        print(', '.join(right),end = '')\n",
    "        print(\"}\")"
   ]
  },
  {
   "cell_type": "code",
   "execution_count": 5,
   "metadata": {},
   "outputs": [],
   "source": [
    "# prints the rule set\n",
    "def printruleset(datasetfilename,minsupport,minconfidence):\n",
    "    (itemnames,data,numitems) = loaddata(datasetfilename)\n",
    "    rules = learnrules(numitems,data,minsupport,minconfidence)\n",
    "    writerules(rules,data,itemnames)"
   ]
  },
  {
   "cell_type": "code",
   "execution_count": 6,
   "metadata": {},
   "outputs": [
    {
     "name": "stdout",
     "output_type": "stream",
     "text": [
      " 0.5000    1.0000   {Toy Story} => {Star Wars}\n",
      " 0.3000    1.0000   {Home Alone, Toy Story} => {Star Wars}\n",
      " 0.3000    1.0000   {Star Wars, Home Alone} => {Toy Story}\n",
      " 0.5000    0.7143   {Star Wars} => {Toy Story}\n",
      " 0.3000    0.6000   {Star Wars, Toy Story} => {Home Alone}\n",
      " 0.3000    0.6000   {Toy Story} => {Star Wars, Home Alone}\n",
      " 0.3000    0.6000   {Toy Story} => {Home Alone}\n",
      " 0.3000    0.5000   {Home Alone} => {Star Wars, Toy Story}\n",
      " 0.3000    0.5000   {Home Alone} => {Toy Story}\n",
      " 0.3000    0.5000   {Home Alone} => {Star Wars}\n"
     ]
    }
   ],
   "source": [
    "## toy dataset example\n",
    "''' output should look like\n",
    " 0.5000  1.0000    {Toy Story} => {Star Wars}\n",
    " 0.3000  1.0000    {Star Wars, Home Alone} => {Toy Story}\n",
    " 0.3000  1.0000    {Home Alone, Toy Story} => {Star Wars}\n",
    " 0.5000  0.7143    {Star Wars} => {Toy Story}\n",
    " 0.3000  0.6000    {Star Wars, Toy Story} => {Home Alone}\n",
    " 0.3000  0.6000    {Toy Story} => {Home Alone}\n",
    " 0.3000  0.6000    {Toy Story} => {Star Wars, Home Alone}\n",
    " 0.3000  0.5000    {Home Alone} => {Toy Story}\n",
    " 0.3000  0.5000    {Home Alone} => {Star Wars, Toy Story}\n",
    " 0.3000  0.5000    {Home Alone} => {Star Wars}\n",
    "'''\n",
    "printruleset('toymovies.txt',0.3,0.5)"
   ]
  },
  {
   "cell_type": "code",
   "execution_count": 7,
   "metadata": {},
   "outputs": [
    {
     "name": "stdout",
     "output_type": "stream",
     "text": [
      " 0.0104    0.5862   {citrus fruit, root vegetables} => {other vegetables}\n",
      " 0.0123    0.5845   {root vegetables, tropical fruit} => {other vegetables}\n",
      " 0.0101    0.5824   {curd, yogurt} => {whole milk}\n",
      " 0.0115    0.5736   {other vegetables, butter} => {whole milk}\n",
      " 0.0120    0.5700   {root vegetables, tropical fruit} => {whole milk}\n",
      " 0.0145    0.5630   {root vegetables, yogurt} => {whole milk}\n",
      " 0.0123    0.5525   {domestic eggs, other vegetables} => {whole milk}\n",
      " 0.0109    0.5245   {whipped/sour cream, yogurt} => {whole milk}\n",
      " 0.0127    0.5230   {rolls/buns, root vegetables} => {whole milk}\n",
      " 0.0135    0.5175   {pip fruit, other vegetables} => {whole milk}\n",
      " 0.0151    0.5174   {tropical fruit, yogurt} => {whole milk}\n",
      " 0.0223    0.5129   {other vegetables, yogurt} => {whole milk}\n",
      " 0.0146    0.5070   {other vegetables, whipped/sour cream} => {whole milk}\n",
      " 0.0122    0.5021   {rolls/buns, root vegetables} => {other vegetables}\n",
      " 0.0129    0.5000   {root vegetables, yogurt} => {other vegetables}\n"
     ]
    }
   ],
   "source": [
    "# the full groceries answer (should take a little under a minute to run)\n",
    "printruleset('groceries.txt',0.01,0.5)"
   ]
  }
 ],
 "metadata": {
  "kernelspec": {
   "display_name": "CS 171 Python",
   "language": "python",
   "name": "cs171"
  },
  "language_info": {
   "codemirror_mode": {
    "name": "ipython",
    "version": 3
   },
   "file_extension": ".py",
   "mimetype": "text/x-python",
   "name": "python",
   "nbconvert_exporter": "python",
   "pygments_lexer": "ipython3",
   "version": "3.6.6"
  }
 },
 "nbformat": 4,
 "nbformat_minor": 2
}
