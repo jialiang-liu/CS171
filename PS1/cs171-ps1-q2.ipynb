{
 "cells": [
  {
   "cell_type": "markdown",
   "metadata": {
    "nbgrader": {
     "grade": false,
     "grade_id": "cell-ede1c3ea2f3a59a4",
     "locked": true,
     "schema_version": 1,
     "solution": false
    }
   },
   "source": [
    "# CS171 Problem set 1, question 2 (10 pts)\n",
    "\n",
    "In working on this assignment, do not feel constrained by the order or arrangement of the notebook as supplied.\n",
    "You may not import other libraries, but while developing, you may write code as you wish, insert cells, run things in other orders, etc.  **Please clean up your notebook before submitting and check to make sure it runs in order from a fresh kernel!**"
   ]
  },
  {
   "cell_type": "markdown",
   "metadata": {
    "nbgrader": {
     "grade": false,
     "grade_id": "cell-54ea5258df564bf2",
     "locked": true,
     "schema_version": 1,
     "solution": false
    }
   },
   "source": [
    "### Your task: implement naive Bayes for the case of binary classification and categorical features\n",
    "\n",
    "You may assume that the features take on three values: 0, 1, 2.  And, that the labels are either 0 or 1.\n",
    "\n",
    "Below is an example notebook that loads the data, trains a model, and outputs its error rate\n",
    "**except**, the critical parts of `trainnaivebayes` and `naivebayesclass` which need to be implemented.  ***Implement them!***"
   ]
  },
  {
   "cell_type": "markdown",
   "metadata": {
    "nbgrader": {
     "grade": false,
     "grade_id": "cell-fed313c70b079f52",
     "locked": true,
     "schema_version": 1,
     "solution": false
    }
   },
   "source": [
    "Supplied with this notebook are `trainspam.txt` and `testspam.txt` which are the training and testing datasets for this problem.  `toytrain.txt` and `toytest.txt` are also given; they are not necessary, but have the data for the example problem from class (which might help with debugging)."
   ]
  },
  {
   "cell_type": "code",
   "execution_count": 1,
   "metadata": {
    "nbgrader": {
     "grade": false,
     "grade_id": "cell-7af881fca3639a5f",
     "locked": true,
     "schema_version": 1,
     "solution": false
    }
   },
   "outputs": [],
   "source": [
    "import numpy as np\n",
    "# do not import anything else!"
   ]
  },
  {
   "cell_type": "code",
   "execution_count": 2,
   "metadata": {
    "nbgrader": {
     "grade": false,
     "grade_id": "cell-e8987185e9039e83",
     "locked": true,
     "schema_version": 1,
     "solution": false
    }
   },
   "outputs": [],
   "source": [
    "# function to load the data\n",
    "def loadsparsedata(fn):\n",
    "    \n",
    "    fp = open(fn,\"r\")\n",
    "    lines = fp.readlines()\n",
    "    maxf = 0;\n",
    "    for line in lines:\n",
    "        for i in line.split()[1::2]:\n",
    "            maxf = max(maxf,int(i))\n",
    "    \n",
    "    X = np.zeros((len(lines),maxf))\n",
    "    Y = np.zeros((len(lines)))\n",
    "    \n",
    "    for i, line in enumerate(lines):\n",
    "        values = line.split()\n",
    "        Y[i] = int(values[0])\n",
    "        for j,v in zip(values[1::2],values[2::2]):\n",
    "            X[i,int(j)-1] = int(v)\n",
    "    \n",
    "    return X,Y"
   ]
  },
  {
   "cell_type": "code",
   "execution_count": 3,
   "metadata": {
    "nbgrader": {
     "grade": false,
     "grade_id": "cell-184839f8ab77d967",
     "locked": false,
     "schema_version": 1,
     "solution": true
    }
   },
   "outputs": [],
   "source": [
    "### THIS IS WHAT YOU NEED TO IMPLEMENT\n",
    "def trainnaivebayes(X,Y):\n",
    "    # X is a numpy array: m-by-n (m examples, n features)\n",
    "    # Y is a numpy array: m-by-1 (m examples, 1 label)\n",
    "    (m,n) = X.shape;\n",
    "    nclass = int(Y.max())+1; # in this case, nclass should be 2\n",
    "    nval = int(X.max())+1;  # in this case, nval should be 3\n",
    "    priorp = np.zeros([nclass])\n",
    "    condp = np.zeros([n,nval,nclass])\n",
    "    \n",
    "    ### YOUR CODE HERE!!!\n",
    "    #define the function for counting times of an element occurred\n",
    "    def countp(sarray,k,col):\n",
    "        count = 0\n",
    "        for i in sarray[:,col]:\n",
    "            if i == k:\n",
    "                count += 1\n",
    "        return count\n",
    "    \n",
    "    #assign elements to priorp\n",
    "    mY = (np.mat(Y)).T\n",
    "    for i in range(nclass):\n",
    "        priorp[i] = countp(mY,i,0)/m\n",
    "        \n",
    "    #combine X and Y, and divided to two matrixs by y = k\n",
    "    mX = np.mat(X)\n",
    "    mXY = np.c_[mX,mY]\n",
    "    mX0 = np.ones((1,n+1))\n",
    "    mX1 = np.zeros((1,n+1))\n",
    "    for i in range(m):\n",
    "        if mXY[i,n] == 1:\n",
    "            mX1 = np.r_[mX1,mXY[i]]\n",
    "        else:\n",
    "            mX0 = np.r_[mX0,mXY[i]]\n",
    "    mX0 = np.delete(mX0,0,axis = 0)\n",
    "    mX1 = np.delete(mX1,0,axis = 0)\n",
    "    \n",
    "    #assign elements to condp\n",
    "    for i in range(n):\n",
    "        for j in range(nval):\n",
    "            condp[i,j,0] = float(countp(mX0,j,i))/float(mX0.shape[0])\n",
    "            condp[i,j,1] = float(countp(mX1,j,i))/float(mX1.shape[0])\n",
    "        \n",
    "    # priorp is of shape (2,) and element k represents p(y=k)\n",
    "    # condp is of shape (num-features, 3, 2) and element (i,j,k) is p(x_i = j | y = k)\n",
    "    return priorp, condp"
   ]
  },
  {
   "cell_type": "code",
   "execution_count": 4,
   "metadata": {},
   "outputs": [],
   "source": [
    "# load training data and train model (as an example... feel free to modify)\n",
    "(trainX,trainY) = loadsparsedata(\"spamtrain.txt\")\n",
    "model = trainnaivebayes(trainX,trainY)"
   ]
  },
  {
   "cell_type": "code",
   "execution_count": 5,
   "metadata": {
    "nbgrader": {
     "grade": false,
     "grade_id": "cell-0f102922d8e809b6",
     "locked": false,
     "schema_version": 1,
     "solution": true
    }
   },
   "outputs": [],
   "source": [
    "### THIS IS THE OTHER PART YOU NEED TO IMPLEMENT\n",
    "def naivebayesclass(X,model):\n",
    "    # X is the testing data (m-by-n)\n",
    "    # model is the pair (priorp,condp) from trainnaivebayes\n",
    "    (priorp,condp) = model\n",
    "    \n",
    "    ### YOUR CODE HERE!!!\n",
    "    (m,n) = X.shape;\n",
    "    predy = np.zeros([m])\n",
    "    temp0 = 1.0\n",
    "    temp1 = 1.0\n",
    "    for i in range(m):\n",
    "        for j in range(n):\n",
    "            temp0 *= condp[j,int(X[i,j]),0]\n",
    "            temp1 *= condp[j,int(X[i,j]),1]\n",
    "        temp0 *= priorp[0]\n",
    "        temp1 *= priorp[1]\n",
    "        if temp0 < temp1:\n",
    "            predy[i] = 1\n",
    "        else:\n",
    "            predy[i] = 0\n",
    "    \n",
    "    # predy should be an m-by-1 numpy array of the predicated classes\n",
    "    return predy"
   ]
  },
  {
   "cell_type": "code",
   "execution_count": 6,
   "metadata": {
    "nbgrader": {
     "grade": false,
     "grade_id": "cell-1c627e2c9aea1c21",
     "locked": true,
     "schema_version": 1,
     "solution": false
    }
   },
   "outputs": [],
   "source": [
    "def errorrate(Y,predY):\n",
    "    return np.sum(Y.squeeze()!=predY.squeeze()) / float(Y.size)"
   ]
  },
  {
   "cell_type": "code",
   "execution_count": 7,
   "metadata": {},
   "outputs": [
    {
     "name": "stdout",
     "output_type": "stream",
     "text": [
      "0.16511127063890882\n"
     ]
    }
   ],
   "source": [
    "# load testing data and test accuracy (as an example... feel free to modify for your testing)\n",
    "(testX,testY) = loadsparsedata(\"spamtest.txt\")\n",
    "predy = naivebayesclass(testX,model)\n",
    "err = errorrate(testY,predy)\n",
    "print(err)"
   ]
  },
  {
   "cell_type": "code",
   "execution_count": 8,
   "metadata": {},
   "outputs": [],
   "source": [
    "def checkexample(trainX,trainY,testX,ansY,ansmodel):\n",
    "    model = trainnaivebayes(trainX,trainY)\n",
    "    np.testing.assert_equal(ansmodel,model)\n",
    "    predy = naivebayesclass(testX,model)\n",
    "    np.testing.assert_equal(ansY,predy)"
   ]
  },
  {
   "cell_type": "code",
   "execution_count": 9,
   "metadata": {
    "nbgrader": {
     "grade": true,
     "grade_id": "cell-bdc16e6467528b85",
     "locked": true,
     "points": 2,
     "schema_version": 1,
     "solution": false
    }
   },
   "outputs": [],
   "source": [
    "# Test on toy problem:\n",
    "(toytrainX,toytrainY) = loadsparsedata(\"toytrain.txt\")\n",
    "(toytestX,toytestY) = loadsparsedata(\"toytest.txt\")\n",
    "toymodelans = (np.array([0.6,0.4]),\n",
    "               np.array([[[5./6, 0.50],\n",
    "                          [1./6, 0.50],\n",
    "                          [0.  , 0.  ]],\n",
    "                         [[1./6, 0.50],\n",
    "                          [1./6, 0.25],\n",
    "                          [4./6, 0.25]],\n",
    "                         [[5./6, 0.25],\n",
    "                          [1./6, 0.75],\n",
    "                          [0.  , 0.  ]]]))\n",
    "checkexample(toytrainX,toytrainY,toytestX,toytestY,toymodelans)"
   ]
  }
 ],
 "metadata": {
  "celltoolbar": "Create Assignment",
  "kernelspec": {
   "display_name": "CS 171 Python",
   "language": "python",
   "name": "cs171"
  },
  "language_info": {
   "codemirror_mode": {
    "name": "ipython",
    "version": 3
   },
   "file_extension": ".py",
   "mimetype": "text/x-python",
   "name": "python",
   "nbconvert_exporter": "python",
   "pygments_lexer": "ipython3",
   "version": "3.6.6"
  }
 },
 "nbformat": 4,
 "nbformat_minor": 2
}
