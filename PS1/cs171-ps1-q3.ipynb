{
 "cells": [
  {
   "cell_type": "markdown",
   "metadata": {
    "nbgrader": {
     "grade": false,
     "grade_id": "cell-645dd676d5258871",
     "locked": true,
     "schema_version": 1,
     "solution": false
    }
   },
   "source": [
    "# CS 171 Problem set 1, Question 3\n",
    "\n",
    " - You may add cells to define functions or break up your solutions into components (your answers do not have to fit in a single cell each)\n",
    " - Your code can be specific to this example; it does not have to be general or be decomposed into functions\n",
    " - Feel free to include markdown cells to explain you answers\n",
    " - Do **not** import any other packages\n",
    " - Be sure to answer all parts"
   ]
  },
  {
   "cell_type": "code",
   "execution_count": 1,
   "metadata": {
    "nbgrader": {
     "grade": false,
     "grade_id": "cell-e9994ebed6316006",
     "locked": true,
     "schema_version": 1,
     "solution": false
    }
   },
   "outputs": [],
   "source": [
    "import numpy as np\n",
    "import matplotlib.pyplot as plt"
   ]
  },
  {
   "cell_type": "code",
   "execution_count": 2,
   "metadata": {
    "nbgrader": {
     "grade": false,
     "grade_id": "cell-d0e60e6a65182ab4",
     "locked": true,
     "schema_version": 1,
     "solution": false
    }
   },
   "outputs": [],
   "source": [
    "# helpful plotting function for later\n",
    "# assumes that w has the coefficients for the polynomial\n",
    "# y = w[0] + w[1]*x + w[2]*(x**2) + x[3]*(x***3)\n",
    "# plots between x=minx and x=maxx\n",
    "def plotcubic(minx,maxx,w):\n",
    "    xs = np.linspace(minx,maxx,50)\n",
    "    ys = w[0]+w[1]*xs + w[2]*xs*xs + w[3]*xs*xs*xs\n",
    "    plt.plot(xs,ys,'k-')"
   ]
  },
  {
   "cell_type": "code",
   "execution_count": 3,
   "metadata": {
    "nbgrader": {
     "grade": false,
     "grade_id": "cell-fbdf0315f8c3879e",
     "locked": true,
     "schema_version": 1,
     "solution": false
    }
   },
   "outputs": [],
   "source": [
    "# the data (one feature, one output, for regression)\n",
    "X = np.array([0,2,2,3,-1,1])\n",
    "Y = np.array([1,-3,-2,-3,-1,-1])"
   ]
  },
  {
   "cell_type": "markdown",
   "metadata": {
    "nbgrader": {
     "grade": false,
     "grade_id": "cell-aabdda5a5e9d861c",
     "locked": true,
     "schema_version": 1,
     "solution": false
    }
   },
   "source": [
    "<div class=\"alert alert-info\"><font size=5>Part (a) Using the data above, fit a 3rd-degree polynomial (3 pts)</font>\n",
    "\n",
    " - Find the weights using least squares regression\n",
    " - Show your steps in the notebook, using numpy for your calculations\n",
    " - **Your code should print the coefficients**\n",
    " </div>"
   ]
  },
  {
   "cell_type": "code",
   "execution_count": 4,
   "metadata": {
    "nbgrader": {
     "grade": true,
     "grade_id": "cell-73c6e1861428915b",
     "locked": false,
     "points": 3,
     "schema_version": 1,
     "solution": true
    }
   },
   "outputs": [
    {
     "name": "stdout",
     "output_type": "stream",
     "text": [
      "The coefficients are:\n",
      "[[ 0.74193548]\n",
      " [-0.23387097]\n",
      " [-1.51612903]\n",
      " [ 0.39516129]]\n"
     ]
    }
   ],
   "source": [
    "### YOUR CODE HERE\n",
    "tempX = np.mat(X)\n",
    "#make X into a matrix includes X_0, X, X^2, X^3\n",
    "newX = np.array([[1.0,tempX[0,0],np.square(tempX[0,0]),pow(tempX[0,0],3)],\n",
    "                 [1.0,tempX[0,1],np.square(tempX[0,1]),pow(tempX[0,1],3)],\n",
    "                 [1.0,tempX[0,2],np.square(tempX[0,2]),pow(tempX[0,2],3)],\n",
    "                 [1.0,tempX[0,3],np.square(tempX[0,3]),pow(tempX[0,3],3)],\n",
    "                 [1.0,tempX[0,4],np.square(tempX[0,4]),pow(tempX[0,4],3)],\n",
    "                 [1.0,tempX[0,5],np.square(tempX[0,5]),pow(tempX[0,5],3)],])\n",
    "mX = np.mat(newX)\n",
    "mY = np.mat(Y)\n",
    "#caculate the w by using the formula w = A^(-1)*c\n",
    "w = np.dot(np.linalg.inv(np.dot(mX.T,mX)),np.dot(mX.T,mY.T))\n",
    "print(\"The coefficients are:\")\n",
    "print(w)"
   ]
  },
  {
   "cell_type": "markdown",
   "metadata": {
    "nbgrader": {
     "grade": false,
     "grade_id": "cell-69e7b8a2c5e25c8d",
     "locked": true,
     "schema_version": 1,
     "solution": false
    }
   },
   "source": [
    "<div class=\"alert alert-info\"><font size=5>Part (b) Plot the data and cubic (3 pts)</font>\n",
    "\n",
    " - make a single plot plotting the data (use `plt.scatter`) and the cubic function (use `plt.plot`)\n",
    " - The x-axis range of your plot should be from -2 to 4\n",
    " - **Your code should draw a 2d figure, with the points and the cubic function**\n",
    " </div>"
   ]
  },
  {
   "cell_type": "code",
   "execution_count": 5,
   "metadata": {
    "nbgrader": {
     "grade": true,
     "grade_id": "cell-25089bf425dacaa8",
     "locked": false,
     "points": 3,
     "schema_version": 1,
     "solution": true
    }
   },
   "outputs": [
    {
     "data": {
      "image/png": "[encoded data removed]",
      "text/plain": [
       "<Figure size 432x288 with 1 Axes>"
      ]
     },
     "metadata": {
      "needs_background": "light"
     },
     "output_type": "display_data"
    }
   ],
   "source": [
    "### YOUR CODE HERE\n",
    "#sort the points generated by cubic function\n",
    "newY = np.dot(mX,w)\n",
    "temp = np.array([[tempX[0,0],newY[0,0]],\n",
    "                [tempX[0,1],newY[1,0]],\n",
    "                [tempX[0,2],newY[2,0]],\n",
    "                [tempX[0,3],newY[3,0]],\n",
    "                [tempX[0,4],newY[4,0]],\n",
    "                [tempX[0,5],newY[5,0]]])\n",
    "temp = temp[np.lexsort(temp[:,::-1].T)]\n",
    "\n",
    "#create and set the plot\n",
    "fig,ax = plt.subplots()\n",
    "ax.set_xlabel('$X$')\n",
    "ax.set_ylabel('$Y$')\n",
    "plt.xlim(-2,4)\n",
    "plt.ylim(-9,3)\n",
    "ax.set_title(\"Data and Cubic Function\")\n",
    "\n",
    "#plot the data\n",
    "ax.scatter(X,Y,c = 'r',marker = 'o',label = 'Data Point Y')\n",
    "\n",
    "#plot the point from the cubic function\n",
    "ax.plot(temp[:,0],temp[:,1],'o',label = 'Cubic Function Points')\n",
    "\n",
    "#plot the graphic of the cubic function\n",
    "x = np.linspace(-2,4,500)\n",
    "x_2 = pow(x,2)\n",
    "x_3 = pow(x,3)\n",
    "x_0 = pow(x,0)\n",
    "x = np.mat(x)\n",
    "x = x.T\n",
    "x_0 = np.mat(x_0)\n",
    "x_0 = x_0.T\n",
    "x_2 = np.mat(x_2)\n",
    "x_2 = x_2.T\n",
    "x_3 = np.mat(x_3)\n",
    "x_3 = x_3.T\n",
    "newx = np.c_[x_0,x,x_2,x_3]\n",
    "y = np.dot(newx,w)\n",
    "plt.plot(x,y,label = 'Cubic Function Line')\n",
    "\n",
    "plt.legend(bbox_to_anchor=(1.05, 1), loc=2, borderaxespad=0.)\n",
    "plt.show() "
   ]
  },
  {
   "cell_type": "markdown",
   "metadata": {
    "nbgrader": {
     "grade": false,
     "grade_id": "cell-d9ed3d2c747a577e",
     "locked": true,
     "schema_version": 1,
     "solution": false
    }
   },
   "source": [
    "<div class=\"alert alert-info\"><font size=5>Part (c) Now repeat the same two steps, with ridge regression (4 pts)</font>\n",
    "\n",
    "- Again, fit a cubic function, but use ridge regression with $\\lambda=5$<br>\n",
    "- Again, plot the data and cubic function (again over the range $x \\in [-2,4]$)\n",
    "- **Your code should display the coefficients (like part a) _and_ display the plot (like part b)**\n",
    "</div>"
   ]
  },
  {
   "cell_type": "code",
   "execution_count": 6,
   "metadata": {
    "nbgrader": {
     "grade": true,
     "grade_id": "cell-f64a970eacfff30f",
     "locked": false,
     "points": 4,
     "schema_version": 1,
     "solution": true
    }
   },
   "outputs": [
    {
     "name": "stdout",
     "output_type": "stream",
     "text": [
      "The new coefficients are:\n",
      "[[-0.31969248]\n",
      " [-0.18651361]\n",
      " [-0.40469707]\n",
      " [ 0.04448824]]\n"
     ]
    },
    {
     "data": {
      "image/png": "[encoded data removed]",
      "text/plain": [
       "<Figure size 432x288 with 1 Axes>"
      ]
     },
     "metadata": {
      "needs_background": "light"
     },
     "output_type": "display_data"
    }
   ],
   "source": [
    "### YOUR CODE HERE\n",
    "I = [[0,0,0,0],\n",
    "     [0,1,0,0],\n",
    "     [0,0,1,0],\n",
    "     [0,0,0,1]]\n",
    "ld = 5\n",
    "neww = np.dot(np.linalg.inv(np.dot(mX.T,mX) + np.dot(ld,I)),np.dot(mX.T,mY.T))\n",
    "print(\"The new coefficients are:\")\n",
    "print(neww)\n",
    "newy = np.dot(newx,neww)\n",
    "\n",
    "#####Those codes are basically the same with Part(b)\n",
    "#create and set the plot\n",
    "fig,ax1 = plt.subplots()\n",
    "ax1.set_xlabel('$X$')\n",
    "ax1.set_ylabel('$Y$')\n",
    "plt.xlim(-2,4)\n",
    "ax1.set_title(\"Data and Cubic Function with Ridge Regression\")\n",
    "\n",
    "#plot the data\n",
    "ax1.scatter(X,Y,c = 'r',marker = 'o',label = 'Data Point Y')\n",
    "\n",
    "#plot the point from the cubic function\n",
    "#ax1.plot(temp[:,0],temp[:,1],'o',label = 'Cubic Function Points')\n",
    "\n",
    "#plot the graphic of the cubic function\n",
    "plt.plot(x,newy,label = 'Ridge Regression')\n",
    "\n",
    "plt.legend(bbox_to_anchor=(1.05, 1), loc=2, borderaxespad=0.)\n",
    "plt.show() "
   ]
  }
 ],
 "metadata": {
  "celltoolbar": "Create Assignment",
  "kernelspec": {
   "display_name": "CS 171 Python",
   "language": "python",
   "name": "cs171"
  },
  "language_info": {
   "codemirror_mode": {
    "name": "ipython",
    "version": 3
   },
   "file_extension": ".py",
   "mimetype": "text/x-python",
   "name": "python",
   "nbconvert_exporter": "python",
   "pygments_lexer": "ipython3",
   "version": "3.6.6"
  }
 },
 "nbformat": 4,
 "nbformat_minor": 2
}
