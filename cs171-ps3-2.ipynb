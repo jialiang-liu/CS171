{
 "cells": [
  {
   "cell_type": "markdown",
   "metadata": {},
   "source": [
    "\n",
    "## Problem Set 3 [25 points]\n",
    "### Neural Networks\n",
    "\n",
    "<div class=\"alert alert-info\">\n",
    "In this problem set, you are to implement a two-layer (2 layers of weights, 1 hidden layer of units) neural network for binary classification.  All non-linearities are to be sigmoids.\n",
    "\n",
    "Details are given below.  *Please read the **entire** notebook carefully before proceeding.*\n",
    "\n",
    "You need to both fill in the necesary code, **and** answer the question at the bottom.</div>"
   ]
  },
  {
   "cell_type": "code",
   "execution_count": 1,
   "metadata": {},
   "outputs": [],
   "source": [
    "# Below are the only imports that are necessary (or allowed)\n",
    "import numpy as np\n",
    "import h5py \n",
    "import matplotlib.pyplot as plt\n",
    "import time\n",
    "from IPython import display"
   ]
  },
  {
   "cell_type": "markdown",
   "metadata": {},
   "source": [
    "## Data\n",
    "\n",
    "<div class=\"alert alert-info\">\n",
    "We will be using a USPS digit dataset (provided in the file uspsall73.mat).\n",
    "It has 16-by-16 grayscale images of each of the 10 different hand-written digits\n",
    "However, we will load only two of the digits to use as the two classes in\n",
    "binary classification\n",
    "</div>"
   ]
  },
  {
   "cell_type": "code",
   "execution_count": 2,
   "metadata": {},
   "outputs": [],
   "source": [
    "start = time.time()\n",
    "\n",
    "# function to load two of the 10 classes (c1 is for Y=+1 and c2 is for Y=0)\n",
    "# Note that for neural networks, we will be using Y={+1,0} instead of Y={+1,-1}\n",
    "def loaddigitdata(c1,c2,m):\n",
    "    f = h5py.File('uspsall73.mat','r') \n",
    "    data = f.get('data') \n",
    "    data = np.array(data).astype(float)\n",
    "    X = np.concatenate((data[c1,:,:],data[c2,:,:]))\n",
    "    Y = np.concatenate((np.zeros((data.shape[1])),np.ones((data.shape[1]))))\n",
    "    \n",
    "    rndstate = np.random.get_state() # going to set the \"random\" shuffle random seed\n",
    "    np.random.seed(132857) # setting seed so that dataset is consistent\n",
    "    p = np.random.permutation(X.shape[0])\n",
    "    X = X[p] # this and next line make copies, but that's okay given how small our dataset is\n",
    "    Y = Y[p]\n",
    "    np.random.set_state(rndstate) # reset seed\n",
    "    \n",
    "    trainX = X[0:m,:] # use the first m (after shuffling) for training\n",
    "    trainY = Y[0:m,np.newaxis]\n",
    "    validX = X[m:,:] # use the rest for validation\n",
    "    validY = Y[m:,np.newaxis]\n",
    "    return (trainX,trainY,validX,validY)\n",
    "\n",
    "# In case you care (not necessary for the assignment)\n",
    "def drawexample(x,ax=None): # takes an x *vector* and draws the image it encodes\n",
    "    if ax is None:\n",
    "        plt.imshow(np.reshape(x,(16,16)).T,cmap='gray')\n",
    "    else:\n",
    "        ax.imshow(np.reshape(x,(16,16)).T,cmap='gray')"
   ]
  },
  {
   "cell_type": "code",
   "execution_count": 3,
   "metadata": {},
   "outputs": [],
   "source": [
    "# load the data, to differentiate between 7s and 9s\n",
    "# we will use on 550 examples for training (10% of the data)\n",
    "# to speed up computational time (usually we would use a lot more)\n",
    "(trainX,trainY,validX,validY) = loaddigitdata(6,8,550)"
   ]
  },
  {
   "cell_type": "raw",
   "metadata": {},
   "source": [
    "# Convert this cell to a code cell if you wish to see each of the examples, plotted\n",
    "# (completely not necessary for the problem set)\n",
    "f = plt.figure()\n",
    "f.set_size_inches(8,8)\n",
    "\n",
    "ax = f.add_subplot(111)\n",
    "plt.ion()\n",
    "f.canvas.draw()\n",
    "for exi in range(trainX.shape[0]):\n",
    "    display.clear_output(wait=True)\n",
    "    drawexample(trainX[exi,:])\n",
    "    digitid = (9 if trainY[exi]>0 else 7)\n",
    "    ax.set_title('y = '+str(int(trainY[exi]))+\" [\"+str(digitid)+\"]\")\n",
    "    display.display(f)\n",
    "    #time.sleep(0.1)"
   ]
  },
  {
   "cell_type": "markdown",
   "metadata": {},
   "source": [
    "## WRITE `nneval` and `trainneuralnet` [20 points]\n",
    "\n",
    "<div class=\"alert alert-info\">\n",
    "This is the main portion of the assignment\n",
    "\n",
    "Note that the $Y$ values are +1 and 0 (not +1 and -1).  This is as in class and works better with a sigmoid output.\n",
    "\n",
    "You need to write the two functions below (plus any more you would like to add to help): `nneval` and `trainneuralnet`.  The first takes an array/matrix of X vectors and the weights from a neural network and returns a vector of predicted Y values (should be numbers between 0 and 1 -- the probability of class +1, for each of the examples).  The second takes a data set (Xs and Ys), the number of hidden units, and the lambda value (for regularization), and returns the weights.  W1 are the weights from the input to the hidden and W2 are the weights from the hidden to the output.\n",
    "\n",
    "A few notes:\n",
    "- **Starting Weights**: Start the weights randomly using `np.random.randn` (each weight is drawn from a normal distribution with mean 0 and standard deviation of 1).  Then divide all weights by the number of elements in the previous layer.  This is already included in the code below.\n",
    "- **Offset Terms**: Each layer should have an \"offset\" unit (to supply a 1 to the next layer), except the output layer.\n",
    "- **Batch Updates**: For a problem this small, use batch updates.  That is, the step is based on the sum of the gradients for each data point in the training set.\n",
    "- **Step Size**: http://ruder.io/optimizing-gradient-descent/index.html#gradientdescentoptimizationalgorithms describes a number of methods to adaptively control $\\eta$ for fast convergence.  You don't need to understand any of them; however, without them, convergence to good solutions on this problem can be quite slow.  Therefore, *use RMSprop*: the code below has a simple version of RMSprop that is sufficient for this assignment.  You need to supply the code that calculates `sumofgrad2` which should be the sum of the square of each element of the gradient (the squared length of the gradient).  (for debugging, feel free to use a constant $\\eta$). \n",
    "- **Stopping Criterion**: To determine when to stop, check the loss function every 1000 iterations.  If it has not improved by at least $10^{-6}$ over those 1000 iterations, stop.\n",
    "- **Regularization**: You should penalize (from the regularization) all of the weights, even those coming out of offset units.  While it makes sense sometimes not to penalize the ones for the constant $1$ units, you'll find this easier if you just penalize them all.\n",
    "\n",
    "Tips that might help:\n",
    "- Display the loss function's value every 1000 iterations (or so).  It should generally be getting smaller.\n",
    "- The smaller $\\lambda$ is and the more units, the more difficult the optimization will be.\n",
    "- Write a function to do forward propagation and one to do backward propagation.  Write a function to evaluate the loss function.  In general, break things up to keep things straight.\n",
    "- Processing the entire batch at once is more efficient in numpy.  Use numpy broadcasting to avoid loops where possible.\n",
    "</div>"
   ]
  },
  {
   "cell_type": "code",
   "execution_count": 4,
   "metadata": {},
   "outputs": [],
   "source": [
    "### FEEL FREE TO ADD HELPER FUNCTIONS\n",
    "\n",
    "### SOME LITTLE BASIC FUNCTIONS\n",
    "# add offset units\n",
    "def offset(X):\n",
    "    (m,n) = X.shape\n",
    "    temp = np.ones((m,1))\n",
    "    X = np.c_[temp,X]\n",
    "    return X\n",
    "\n",
    "### I wrote these functions at the beginning\n",
    "### but call functions will waste lots of time, so I didn't use them in nneval and trainneuralnet\n",
    "### I only leave them here to show a more clear thought\n",
    "'''# sigmoid function\n",
    "def sigmoid(Z):\n",
    "    A = 1.0/(1+np.exp(-Z))\n",
    "    return A\n",
    "\n",
    "# forward propagation\n",
    "def forward(W,A):\n",
    "    Z = A@W.T\n",
    "    A = sigmoid(Z)\n",
    "    return Z,A\n",
    "\n",
    "# backward propagation\n",
    "def backward(A,W,D):\n",
    "    return (D*A*(1-A)).T*W.T\n",
    "\n",
    "# gradient\n",
    "def gradient(D,A):\n",
    "    return D.T@A\n",
    "\n",
    "# loss function (with regularization)\n",
    "def lossfunc(m,Y,F,lam,W1,W2):\n",
    "    l = -Y*np.log10(F)-(1-Y)*np.log10(1-F)\n",
    "    L = (1/m)*sum(sum(l))+(lam/m)*(sum(sum(W1*W1))+sum(sum(W2*W2)))\n",
    "    return L'''\n",
    "\n",
    "def nneval(X,W1,W2): \n",
    "    ### YOUR CODE HERE\n",
    "    oX = offset(X)\n",
    "    (m,n) = oX.shape\n",
    "    Y = np.zeros((m,1))\n",
    "    Z1 = oX@W1.T\n",
    "    A1 = 1.0/(1+np.exp(-Z1)) # .shape =  (m,nhid)\n",
    "    A1 = offset(A1)\n",
    "    Z2 = A1@W2.T\n",
    "    Y = 1.0/(1+np.exp(-Z2)) # .shape = (m,1)\n",
    "    return Y\n",
    "\n",
    "def trainneuralnet(X,Y,nhid,lam):\n",
    "    (m,n) = X.shape\n",
    "    \n",
    "    W1 = np.random.randn(nhid,n+1)/n # weights to each hidden unit from the inputs (plus the added offset unit)\n",
    "    W2 = np.random.randn(1,nhid+1)/nhid # weights to the single output unit from the hidden units (plus the offset unit)\n",
    "    #W1 = np.array([[0.,0.,1.,2.],[-2.,1.,-1.,1.]])\n",
    "    #W2 = np.array([[4.,-5.,2.]])\n",
    "    \n",
    "    Eg2=1 ## just to initialize for the RMSprop rule for eta, below.\n",
    "    \n",
    "    ### YOUR CODE HERE (the code below is just to help)\n",
    "    oX = offset(X)\n",
    "    (m,n) = oX.shape\n",
    "    k = 0\n",
    "    l = 999999\n",
    "    \n",
    "    while 1:\n",
    "        F = np.zeros((m,1))\n",
    "        Z1 = oX@W1.T\n",
    "        A1 = 1.0/(1+np.exp(-Z1))\n",
    "        A1 = offset(A1)\n",
    "        Z2 = A1@W2.T\n",
    "        F = 1.0/(1+np.exp(-Z2))\n",
    "        D2 = F-Y\n",
    "        D1 = (D2*A1*(1-A1)).T*W2.T\n",
    "        G2 = D2.T@A1\n",
    "        D1 = np.delete(D1,0,0)\n",
    "        G1 = D1@oX\n",
    "        \n",
    "        G1 = G1/m\n",
    "        G2 = G2/m\n",
    "        \n",
    "        ## Loop to convergence\n",
    "        # below is a nice formula to set eta.  You can use eta=0.1 or eta=0.01 for debugging,\n",
    "        # but use this formula to get much faster convergence for the final solution!\n",
    "        sumofgrad2 = sum(sum(G1*G1))+sum(sum(G2*G2))\n",
    "        Eg2 = 0.9*Eg2 + 0.1*sumofgrad2\n",
    "        eta = 0.001/np.sqrt(1e-10+Eg2)\n",
    "        \n",
    "        W1 -= (G1+2*lam/m*W1)*eta\n",
    "        W2 -= (G2+2*lam/m*W2)*eta\n",
    "        \n",
    "        k += 1\n",
    "        ## every 1000 iterations, check the loss function (including regularization!)\n",
    "        ## if it has not decreased by at least 1e-6 over the past 1000 iterations, *break the loop*\n",
    "        if k == 1000:\n",
    "            L = -Y*np.log10(F)-(1-Y)*np.log10(1-F)\n",
    "            temp = (1/m)*sum(sum(L))+(lam/m)*(sum(sum(W1*W1))+sum(sum(W2*W2)))\n",
    "            if l-temp < 1e-6 and 0 <= l-temp: break\n",
    "            l = temp\n",
    "            k = 0\n",
    "    \n",
    "    return (W1,W2)"
   ]
  },
  {
   "cell_type": "code",
   "execution_count": 5,
   "metadata": {},
   "outputs": [
    {
     "name": "stdout",
     "output_type": "stream",
     "text": [
      "[[ 1.81730103e-04  3.65221213e-03 -1.46231386e-03 ...  3.80110650e-03\n",
      "   3.14616600e-03  6.13308624e-04]\n",
      " [ 7.78422975e-04  4.11701305e-03 -7.93444335e-04 ...  3.33217689e-03\n",
      "   3.28642454e-03  5.69113297e-04]\n",
      " [ 4.38998750e-04  4.78373165e-03 -1.36074503e-03 ...  3.75162468e-03\n",
      "   2.97645740e-03  6.72776138e-04]\n",
      " [ 5.77416206e-05 -3.83483649e-03 -1.32332176e-03 ... -3.11455906e-03\n",
      "  -3.06169167e-03 -1.17177297e-03]\n",
      " [ 8.71007313e-06  3.53274248e-03 -1.32513863e-03 ...  3.39237417e-03\n",
      "   3.11988512e-03  9.63871220e-04]]\n",
      "[[ 1.96289333 -2.14154363 -2.08532613 -2.17264455  3.83804169 -2.17715714]]\n",
      "Running time for this example is:  13.76636528968811  seconds.\n"
     ]
    }
   ],
   "source": [
    "# Use this cell (or others you add) to check your network\n",
    "# I would debug on simple examples you create yourself (trying to understand what happens with\n",
    "#  the full 256-dimensional data is hard)\n",
    "   \n",
    "time1 = time.time()\n",
    "(W1,W2) = trainneuralnet(trainX,trainY,5,0.1) #an example of training on the USPS data with 5 hidden units and lambda=0.1\n",
    "print(W1)\n",
    "print(W2)\n",
    "print(\"Running time for this example is: \",time.time()-time1,\" seconds.\")"
   ]
  },
  {
   "cell_type": "raw",
   "metadata": {},
   "source": [
    "# simple example I used for debugging, which came from slides\n",
    "# I just left it here, but codes above need to be modified to make this example work\n",
    "XX = np.array([[0.73,0.007,0.99],[0.73,0.007,0.99]])\n",
    "YY = np.array([[1],[1]])\n",
    "(W1,W2) = trainneuralnet(XX,YY,2,0.1)\n",
    "print(W1,W2)"
   ]
  },
  {
   "cell_type": "markdown",
   "metadata": {},
   "source": [
    "## Performance plot\n",
    "<div class=\"alert alert-info\">\n",
    "The code below will plot your algorithm's error rate on this data set for various regularization strengths and numbers of hidden units.\n",
    "\n",
    "Make sure your code works for this plot.\n",
    "\n",
    "My code runs in about 7 minutes (to produce the full plot below)\n",
    "</div>"
   ]
  },
  {
   "cell_type": "code",
   "execution_count": 6,
   "metadata": {},
   "outputs": [
    {
     "name": "stdout",
     "output_type": "stream",
     "text": [
      "Running time for this whole notebook is 11 minute(s) and 7 second(s).\n"
     ]
    },
    {
     "data": {
      "image/png": "[encoded data removed]",
      "text/plain": [
       "<Figure size 576x576 with 1 Axes>"
      ]
     },
     "metadata": {
      "needs_background": "light"
     },
     "output_type": "display_data"
    }
   ],
   "source": [
    "def setupfig():\n",
    "    f = plt.figure()\n",
    "    f.set_size_inches(8,8)\n",
    "    ax = f.add_subplot(111)\n",
    "    plt.ion()\n",
    "    f.canvas.draw()\n",
    "    return (f,ax)\n",
    "\n",
    "def plotit(lams,nhiddens,erates,f,ax):\n",
    "    ax.clear()\n",
    "    for i in range(nhiddens.shape[0]):\n",
    "        ax.loglog(lams,erates[:,i],'*-')\n",
    "    f.canvas.draw()\n",
    "    ax.set_xlabel('lambda')\n",
    "    ax.set_ylabel('validation error rate')\n",
    "    ax.legend(['# hidden units = '+str(x) for x in nhiddens])\n",
    "    display.display(f)\n",
    "    display.clear_output(wait=True)\n",
    "    \n",
    "    \n",
    "nhiddens = np.array([5,10,50])\n",
    "lams = np.logspace(-2,4,12)\n",
    "erates = np.empty([lams.shape[0],nhiddens.shape[0]])\n",
    "erates[:,:] = np.nan\n",
    "\n",
    "(f,ax) = setupfig()\n",
    "for li, lam in reversed(list(enumerate(lams))):\n",
    "    for ni, nhid in enumerate(nhiddens):\n",
    "        (W1,W2) = trainneuralnet(trainX,trainY,nhid,lam)\n",
    "        predy = nneval(validX,W1,W2)\n",
    "        predy[predy<0.5] = 0\n",
    "        predy[predy>=0.5] = 1\n",
    "        validerr = (predy != validY).sum()/validY.shape[0]\n",
    "        erates[li,ni] = validerr\n",
    "        \n",
    "        plotit(lams,nhiddens,erates,f,ax)\n",
    "        \n",
    "end = time.time()\n",
    "print(\"Running time for this whole notebook is \",end = \"\")\n",
    "print(int((end-start)//60),end = \"\")\n",
    "print(\" minute(s) and \",end = \"\")\n",
    "print(int((end-start)%60),end = \"\")\n",
    "print(\" second(s).\")\n"
   ]
  },
  {
   "cell_type": "markdown",
   "metadata": {},
   "source": [
    "## INTERPRET the Plot (part b) [5 points]\n",
    "<div class=\"alert alert-info\">\n",
    "How do you interpret the plot above?  How and why does the plot differ by number of hidden units?  By $\\lambda$ value?\n",
    "</div>"
   ]
  },
  {
   "cell_type": "markdown",
   "metadata": {},
   "source": [
    "### Your Answer Here"
   ]
  },
  {
   "cell_type": "markdown",
   "metadata": {},
   "source": [
    "- For hidden units:\n",
    "    1. The differences between numbers of hidden units aren't too obvious.\n",
    "        The difference is small, especially when number of hidden units gets higher (as 10 and 20). With **the number of hidden** units getting higher, **the complexity and the ability of learning** for the hidden layer also goes up, which would make the accuracy get better. But once the hidden units are enough, it won't make a big difference when it gets even higher, since the hidden layer **is already able** to learn about whatever it need to learn.\n",
    "        So, the differences for 5, 10, and 20 hidden units aren't too much, especially for 10 and 20, they basically share the same error rate.\n",
    "    2. Generally, the higher the number of hidden units is, the lower the error rate gets; but it's not certain.\n",
    "        From the plot, generally higher number of units can give a better result. Since higher units have higher complexity, it should be better at learning. But there are also some examples shows lower number hidden units have better results. **The reason is regularization.** Since higher number of hidden units generates more elements for weights, the penalty from regularization also gets higher, it can affect the accuracy for the neural network. Another reason is the starting weights **are randomly chosen**, the performance for the neural network can be affected by it. (To be honest, when I do this homework, I run the plotting for multiple times. The basic trend of error rate is the same, but the exact relationship of error rates between different numbers of hidden units could change.)\n",
    "        \n",
    "- For $\\lambda$ value\n",
    "    1. The neural network have the lowest error rate when $\\lambda=10^4/(\\sqrt[11]{10^6})^2$.\n",
    "        It's **shown in the plot** itself. $\\lambda$ represents the strength of regularization, and there isn't a specific explaination for why the neural network performs the best when $\\lambda$ is equal to that value.\n",
    "    2. The error rate goes up for both directions from the minimum.\n",
    "        When $\\lambda$ **gets higher or lower** from $10^4/(\\sqrt[11]{10^6})^2$, the error rate all **goes up**. When $\\lambda$ is too low, the neural network can be overfit; and when it's too high, the neural network can be too general. It should goes up when leave the minimum, as in the plot. And when $\\lambda=10^4$, it's so high that make the error rate goes higher than 0.5."
   ]
  }
 ],
 "metadata": {
  "kernelspec": {
   "display_name": "CS 171 Python",
   "language": "python",
   "name": "cs171"
  },
  "language_info": {
   "codemirror_mode": {
    "name": "ipython",
    "version": 3
   },
   "file_extension": ".py",
   "mimetype": "text/x-python",
   "name": "python",
   "nbconvert_exporter": "python",
   "pygments_lexer": "ipython3",
   "version": "3.6.6"
  }
 },
 "nbformat": 4,
 "nbformat_minor": 2
}
